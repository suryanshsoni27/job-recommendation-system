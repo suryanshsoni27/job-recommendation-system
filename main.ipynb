{
 "cells": [
  {
   "cell_type": "code",
   "execution_count": 136,
   "metadata": {
    "tags": []
   },
   "outputs": [
    {
     "output_type": "stream",
     "name": "stdout",
     "text": "Age Attrition     BusinessTravel  DailyRate              Department  \\\n0      41       Yes      Travel_Rarely       1102                   Sales   \n1      49        No  Travel_Frequently        279  Research & Development   \n2      37       Yes      Travel_Rarely       1373  Research & Development   \n3      33        No  Travel_Frequently       1392  Research & Development   \n4      27        No      Travel_Rarely        591  Research & Development   \n...   ...       ...                ...        ...                     ...   \n1465   36        No  Travel_Frequently        884  Research & Development   \n1466   39        No      Travel_Rarely        613  Research & Development   \n1467   27        No      Travel_Rarely        155  Research & Development   \n1468   49        No  Travel_Frequently       1023                   Sales   \n1469   34        No      Travel_Rarely        628  Research & Development   \n\n      DistanceFromHome  Education EducationField  EmployeeCount  \\\n0                    1          2  Life Sciences              1   \n1                    8          1  Life Sciences              1   \n2                    2          2          Other              1   \n3                    3          4  Life Sciences              1   \n4                    2          1        Medical              1   \n...                ...        ...            ...            ...   \n1465                23          2        Medical              1   \n1466                 6          1        Medical              1   \n1467                 4          3  Life Sciences              1   \n1468                 2          3        Medical              1   \n1469                 8          3        Medical              1   \n\n      EmployeeNumber  ...  RelationshipSatisfaction StandardHours  \\\n0                  1  ...                         1            80   \n1                  2  ...                         4            80   \n2                  4  ...                         2            80   \n3                  5  ...                         3            80   \n4                  7  ...                         4            80   \n...              ...  ...                       ...           ...   \n1465            2061  ...                         3            80   \n1466            2062  ...                         1            80   \n1467            2064  ...                         2            80   \n1468            2065  ...                         4            80   \n1469            2068  ...                         1            80   \n\n      StockOptionLevel  TotalWorkingYears  TrainingTimesLastYear  \\\n0                    0                  8                      0   \n1                    1                 10                      3   \n2                    0                  7                      3   \n3                    0                  8                      3   \n4                    1                  6                      3   \n...                ...                ...                    ...   \n1465                 1                 17                      3   \n1466                 1                  9                      5   \n1467                 1                  6                      0   \n1468                 0                 17                      3   \n1469                 0                  6                      3   \n\n     WorkLifeBalance  YearsAtCompany YearsInCurrentRole  \\\n0                  1               6                  4   \n1                  3              10                  7   \n2                  3               0                  0   \n3                  3               8                  7   \n4                  3               2                  2   \n...              ...             ...                ...   \n1465               3               5                  2   \n1466               3               7                  7   \n1467               3               6                  2   \n1468               2               9                  6   \n1469               4               4                  3   \n\n      YearsSinceLastPromotion  YearsWithCurrManager  \n0                           0                     5  \n1                           1                     7  \n2                           0                     0  \n3                           3                     0  \n4                           2                     2  \n...                       ...                   ...  \n1465                        0                     3  \n1466                        1                     7  \n1467                        0                     3  \n1468                        0                     8  \n1469                        1                     2  \n\n[1470 rows x 35 columns]\n0       41\n1       49\n2       37\n3       33\n4       27\n        ..\n1465    36\n1466    39\n1467    27\n1468    49\n1469    34\nName: Age, Length: 1470, dtype: int64\n\n"
    }
   ],
   "source": [
    "import pandas as pd\n",
    "import numpy as np\n",
    "\n",
    "data = pd.read_csv(\"data.csv\")\n",
    "print(data)\n",
    "\n",
    "\n",
    "print(data.iloc[:,0])\n",
    "print()"
   ]
  },
  {
   "cell_type": "code",
   "execution_count": 137,
   "metadata": {
    "tags": []
   },
   "outputs": [
    {
     "output_type": "stream",
     "name": "stdout",
     "text": "0       41\n1       49\n2       37\n3       33\n4       27\n        ..\n1465    36\n1466    39\n1467    27\n1468    49\n1469    34\nName: Age, Length: 1470, dtype: int64\n"
    }
   ],
   "source": [
    "print(data.iloc[:,0])"
   ]
  },
  {
   "cell_type": "code",
   "execution_count": 138,
   "metadata": {},
   "outputs": [],
   "source": [
    "from sklearn.preprocessing import LabelEncoder as le\n",
    "from sklearn.preprocessing import MinMaxScaler\n",
    "mnm = MinMaxScaler(feature_range=(0,1))\n",
    "\n",
    "le = le()\n"
   ]
  },
  {
   "cell_type": "code",
   "execution_count": 139,
   "metadata": {},
   "outputs": [],
   "source": [
    "X = data.iloc[:,0:1]\n",
    "y = data.iloc[:,4]"
   ]
  },
  {
   "cell_type": "code",
   "execution_count": 140,
   "metadata": {
    "tags": []
   },
   "outputs": [
    {
     "output_type": "stream",
     "name": "stdout",
     "text": "Age\n0      41\n1      49\n2      37\n3      33\n4      27\n...   ...\n1465   36\n1466   39\n1467   27\n1468   49\n1469   34\n\n[1470 rows x 1 columns]\n"
    }
   ],
   "source": [
    "print(X)"
   ]
  },
  {
   "cell_type": "code",
   "execution_count": 141,
   "metadata": {
    "tags": []
   },
   "outputs": [
    {
     "output_type": "stream",
     "name": "stdout",
     "text": "[[2]\n [1]\n [1]\n ...\n [1]\n [2]\n [1]]\n"
    }
   ],
   "source": [
    "from sklearn.ensemble import RandomForestClassifier\n",
    "from sklearn.model_selection import train_test_split as tts \n",
    "\n",
    "X = mnm.fit_transform(X)\n",
    "y = le.fit_transform(y)\n",
    "print(y.reshape([1470,1]))\n",
    "Xtrain,ytrain,Xtest,ytest = tts(X,y,test_size = 0.25)\n",
    "rand = RandomForestClassifier(n_estimators=100,criterion='gini',verbose=1)\n"
   ]
  },
  {
   "cell_type": "code",
   "execution_count": null,
   "metadata": {},
   "outputs": [],
   "source": []
  }
 ],
 "metadata": {
  "language_info": {
   "codemirror_mode": {
    "name": "ipython",
    "version": 3
   },
   "file_extension": ".py",
   "mimetype": "text/x-python",
   "name": "python",
   "nbconvert_exporter": "python",
   "pygments_lexer": "ipython3",
   "version": "3.7.6-final"
  },
  "orig_nbformat": 2,
  "kernelspec": {
   "name": "python37664bitbaseconda221a59389d58406a96007fac8abee433",
   "display_name": "Python 3.7.6 64-bit ('base': conda)"
  }
 },
 "nbformat": 4,
 "nbformat_minor": 2
}